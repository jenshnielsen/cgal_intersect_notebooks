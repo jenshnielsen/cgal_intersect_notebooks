{
 "metadata": {
  "name": "Intersect with broken cylinder"
 },
 "nbformat": 3,
 "nbformat_minor": 0,
 "worksheets": [
  {
   "cells": [
    {
     "cell_type": "code",
     "collapsed": false,
     "input": [
      "from CGAL.CGAL_Polyhedron_3 import Polyhedron_3\n",
      "from CGAL.CGAL_Polyhedron_3 import Polyhedron_modifier\n",
      "from CGAL.CGAL_Kernel import Point_3, Segment_3\n",
      "from CGAL.CGAL_AABB_tree import AABB_tree_Polyhedron_3_Facet_handle\n",
      "import numpy as np\n",
      "from CGAL import CGAL_Kernel"
     ],
     "language": "python",
     "metadata": {},
     "outputs": [],
     "prompt_number": 61
    },
    {
     "cell_type": "markdown",
     "metadata": {},
     "source": [
      "Load the broken cylinder gererated from the original and the profile using cgal and converted to off from stl with meshlab. Some examples fo intersections"
     ]
    },
    {
     "cell_type": "code",
     "collapsed": false,
     "input": [
      "#Create input polyhedron\n",
      "polyhedron=Polyhedron_3(\"data/broken_cylinder_clipped.off\")"
     ],
     "language": "python",
     "metadata": {},
     "outputs": [],
     "prompt_number": 62
    },
    {
     "cell_type": "code",
     "collapsed": false,
     "input": [
      "tree = AABB_tree_Polyhedron_3_Facet_handle(polyhedron.facets())\n",
      "tree.accelerate_distance_queries()"
     ],
     "language": "python",
     "metadata": {},
     "outputs": [
      {
       "metadata": {},
       "output_type": "pyout",
       "prompt_number": 63,
       "text": [
        "True"
       ]
      }
     ],
     "prompt_number": 63
    },
    {
     "cell_type": "code",
     "collapsed": false,
     "input": [
      "tree.size()"
     ],
     "language": "python",
     "metadata": {},
     "outputs": [
      {
       "metadata": {},
       "output_type": "pyout",
       "prompt_number": 64,
       "text": [
        "168"
       ]
      }
     ],
     "prompt_number": 64
    },
    {
     "cell_type": "markdown",
     "metadata": {},
     "source": [
      "Get the bounds."
     ]
    },
    {
     "cell_type": "code",
     "collapsed": false,
     "input": [
      "xmax = 0\n",
      "xmin = 0\n",
      "ymax = 0\n",
      "ymin = 0\n",
      "zmax = 0\n",
      "zmin = 0\n",
      "for j in polyhedron.vertices():\n",
      "    i = j.point()\n",
      "    if i.x() > xmax:\n",
      "        xmax = i.x()\n",
      "    if i.x() < xmin:\n",
      "        xmin = i.x()\n",
      "    if i.y() > ymax:\n",
      "        ymax = i.y()\n",
      "    if i.y() < ymin:\n",
      "        ymin = i.y()\n",
      "    if i.z() > zmax:\n",
      "        zmax = i.z()\n",
      "    if i.z() < zmin:\n",
      "        zmin = i.z()\n",
      "print xmin, xmax\n",
      "print ymin, ymax\n",
      "print zmin, zmax"
     ],
     "language": "python",
     "metadata": {},
     "outputs": [
      {
       "output_type": "stream",
       "stream": "stdout",
       "text": [
        "-10.0 10.0\n",
        "-10.0 10.0\n",
        "-120.0 120.0\n"
       ]
      }
     ],
     "prompt_number": 65
    },
    {
     "cell_type": "markdown",
     "metadata": {},
     "source": [
      "Lets try if a to b intersects the surface "
     ]
    },
    {
     "cell_type": "code",
     "collapsed": false,
     "input": [
      "a = Point_3(-4.5,-5.5,-120.5)\n",
      "b = Point_3(-3.5,-6.5,-119.5)\n",
      "c = Point_3(-2.5,-5.5,-118.5)\n",
      "segment_query=Segment_3(a,b)"
     ],
     "language": "python",
     "metadata": {},
     "outputs": [],
     "prompt_number": 66
    },
    {
     "cell_type": "code",
     "collapsed": false,
     "input": [
      "if tree.do_intersect(segment_query):\n",
      "  print \"intersection(s)\"\n",
      "else:\n",
      "  print \"no intersection\""
     ],
     "language": "python",
     "metadata": {},
     "outputs": [
      {
       "output_type": "stream",
       "stream": "stdout",
       "text": [
        "intersection(s)\n"
       ]
      }
     ],
     "prompt_number": 67
    },
    {
     "cell_type": "code",
     "collapsed": false,
     "input": [
      "print tree.number_of_intersected_primitives(segment_query),\" intersection(s)\""
     ],
     "language": "python",
     "metadata": {},
     "outputs": [
      {
       "output_type": "stream",
       "stream": "stdout",
       "text": [
        "1  intersection(s)\n"
       ]
      }
     ],
     "prompt_number": 68
    },
    {
     "cell_type": "code",
     "collapsed": false,
     "input": [
      "print tree.number_of_intersected_primitives(segment_query),\" primitive(s) intersected\""
     ],
     "language": "python",
     "metadata": {},
     "outputs": [
      {
       "output_type": "stream",
       "stream": "stdout",
       "text": [
        "1  primitive(s) intersected\n"
       ]
      }
     ],
     "prompt_number": 69
    },
    {
     "cell_type": "markdown",
     "metadata": {},
     "source": [
      "Get all intersections"
     ]
    },
    {
     "cell_type": "code",
     "collapsed": false,
     "input": [
      "intersections=[]\n",
      "tree.all_intersections(segment_query,intersections)\n",
      "pos = np.zeros((3,len(intersections)))\n",
      "for i in range(len(intersections)):\n",
      "    testpoint = intersections[0][0]\n",
      "    print \"Is this a point? \" + str(testpoint.is_Point_3())\n",
      "    g = testpoint.get_Point_3()\n",
      "    pos[0,i] = g.x()\n",
      "    pos[1,i] = g.y()\n",
      "    pos[2,i] = g.z()\n",
      "print pos"
     ],
     "language": "python",
     "metadata": {},
     "outputs": [
      {
       "output_type": "stream",
       "stream": "stdout",
       "text": [
        "Is this a point? True\n",
        "[[  -3.6171976]\n",
        " [  -6.3828024]\n",
        " [-119.6171976]]\n"
       ]
      }
     ],
     "prompt_number": 70
    },
    {
     "cell_type": "markdown",
     "metadata": {},
     "source": [
      "Get all intersected primitives i.e. triangles."
     ]
    },
    {
     "cell_type": "code",
     "collapsed": false,
     "input": [
      "primitives = []\n",
      "tree.all_intersected_primitives(segment_query,primitives)"
     ],
     "language": "python",
     "metadata": {},
     "outputs": [],
     "prompt_number": 71
    },
    {
     "cell_type": "code",
     "collapsed": false,
     "input": [
      "for i in range(1):\n",
      "    print \"Primitive \" + str(i)\n",
      "    facetitt = primitives[i].facet_begin()\n",
      "    for j in range(3):\n",
      "        facet = facetitt.next()\n",
      "        print facet.vertex().point().x(), facet.vertex().point().y(), facet.vertex().point().z()"
     ],
     "language": "python",
     "metadata": {},
     "outputs": [
      {
       "output_type": "stream",
       "stream": "stdout",
       "text": [
        "Primitive 0\n",
        "-8.7423e-07 -10.0 -111.111\n",
        "-10.0 1.31134e-06 -111.111\n",
        "-3.59997 -6.40003 -120.0\n"
       ]
      }
     ],
     "prompt_number": 72
    },
    {
     "cell_type": "code",
     "collapsed": false,
     "input": [
      "a = Point_3(0.5,8.5,-120.5)\n",
      "b = Point_3(1.5,9.5,-119.5)\n",
      "c = Point_3(1,9,-119)\n",
      "segment_query=Segment_3(a,b)\n",
      "if tree.do_intersect(segment_query):\n",
      "  print \"intersection(s)\"\n",
      "else:\n",
      "  print \"no intersection\""
     ],
     "language": "python",
     "metadata": {},
     "outputs": [
      {
       "output_type": "stream",
       "stream": "stdout",
       "text": [
        "intersection(s)\n"
       ]
      }
     ],
     "prompt_number": 73
    },
    {
     "cell_type": "code",
     "collapsed": false,
     "input": [
      "intersections=[]\n",
      "tree.all_intersections(segment_query,intersections)\n",
      "print len(intersections)\n",
      "pos = np.zeros((3,len(intersections)))\n",
      "for i in range(len(intersections)):\n",
      "    testpoint = intersections[i][0]\n",
      "    print \"Is this a point? \" + str(testpoint.is_Point_3())\n",
      "    g = testpoint.get_Point_3()\n",
      "    pos[0,i] = g.x()\n",
      "    pos[1,i] = g.y()\n",
      "    pos[2,i] = g.z()\n",
      "print pos"
     ],
     "language": "python",
     "metadata": {},
     "outputs": [
      {
       "output_type": "stream",
       "stream": "stdout",
       "text": [
        "2\n",
        "Is this a point? True\n",
        "Is this a point? True\n",
        "[[   1.    1.]\n",
        " [   9.    9.]\n",
        " [-120. -120.]]\n"
       ]
      }
     ],
     "prompt_number": 74
    },
    {
     "cell_type": "markdown",
     "metadata": {},
     "source": [
      "New surface with intersection on it."
     ]
    },
    {
     "cell_type": "code",
     "collapsed": false,
     "input": [
      "m=Polyhedron_modifier()\n",
      "#define a triangle\n",
      "m.begin_surface(3,1)\n",
      "m.add_vertex(a)\n",
      "m.add_vertex(b)\n",
      "m.add_vertex(a)\n",
      "m.begin_facet()\n",
      "m.add_vertex_to_facet(0)\n",
      "m.add_vertex_to_facet(1)\n",
      "m.add_vertex_to_facet(2)\n",
      "m.end_facet()\n",
      "polyhedron.delegate(m)"
     ],
     "language": "python",
     "metadata": {},
     "outputs": [],
     "prompt_number": 75
    },
    {
     "cell_type": "code",
     "collapsed": false,
     "input": [
      "polyhedron.write_to_file('broken_intersect.off')"
     ],
     "language": "python",
     "metadata": {},
     "outputs": [],
     "prompt_number": 76
    },
    {
     "cell_type": "code",
     "collapsed": false,
     "input": [],
     "language": "python",
     "metadata": {},
     "outputs": [],
     "prompt_number": 76
    }
   ],
   "metadata": {}
  }
 ]
}