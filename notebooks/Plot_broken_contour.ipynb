{
 "metadata": {
  "name": "Plot_broken_contour"
 },
 "nbformat": 3,
 "nbformat_minor": 0,
 "worksheets": [
  {
   "cells": [
    {
     "cell_type": "code",
     "collapsed": false,
     "input": [
      "%pylab qt"
     ],
     "language": "python",
     "metadata": {},
     "outputs": [
      {
       "output_type": "stream",
       "stream": "stdout",
       "text": [
        "\n",
        "Welcome to pylab, a matplotlib-based Python environment [backend: Qt4Agg].\n",
        "For more information, type 'help(pylab)'.\n"
       ]
      }
     ],
     "prompt_number": 18
    },
    {
     "cell_type": "markdown",
     "metadata": {},
     "source": [
      "Just a simple plot of the xy contour of the broken cylinder"
     ]
    },
    {
     "cell_type": "code",
     "collapsed": false,
     "input": [
      "x1 = np.arange(-10,1)\n",
      "x2 = np.arange(0,11)\n",
      "\n",
      "y1a = x1+10\n",
      "y1b = -10-x1\n",
      "y2a = x2-10\n",
      "y2b = -x2+10\n",
      "fig,ax = plt.subplots(1,1)\n",
      "ax.axis('equal')\n",
      "ax.plot(x1,y1a,'k')\n",
      "ax.plot(x1,y1b,'k')\n",
      "ax.plot(x2,y2a,'k')\n",
      "ax.plot(x2,y2b,'k')"
     ],
     "language": "python",
     "metadata": {},
     "outputs": [
      {
       "metadata": {},
       "output_type": "pyout",
       "prompt_number": 19,
       "text": [
        "[<matplotlib.lines.Line2D at 0x113923fd0>]"
       ]
      }
     ],
     "prompt_number": 19
    },
    {
     "cell_type": "code",
     "collapsed": false,
     "input": [],
     "language": "python",
     "metadata": {},
     "outputs": []
    }
   ],
   "metadata": {}
  }
 ]
}