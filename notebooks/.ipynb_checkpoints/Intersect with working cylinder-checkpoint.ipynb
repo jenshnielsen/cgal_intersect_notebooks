{
 "metadata": {
  "name": "Intersect with working cylinder"
 },
 "nbformat": 3,
 "nbformat_minor": 0,
 "worksheets": [
  {
   "cells": [
    {
     "cell_type": "code",
     "collapsed": false,
     "input": [
      "from CGAL.CGAL_Polyhedron_3 import Polyhedron_3\n",
      "from CGAL.CGAL_Polyhedron_3 import Polyhedron_modifier\n",
      "from CGAL.CGAL_Kernel import Point_3, Segment_3\n",
      "from CGAL.CGAL_AABB_tree import AABB_tree_Polyhedron_3_Facet_handle\n",
      "import numpy as np\n",
      "from CGAL import CGAL_Kernel"
     ],
     "language": "python",
     "metadata": {},
     "outputs": [],
     "prompt_number": 1
    },
    {
     "cell_type": "code",
     "collapsed": false,
     "input": [
      "#Create input polyhedron\n",
      "polyhedron=Polyhedron_3(\"data/working_cylinder_clipped.off\")"
     ],
     "language": "python",
     "metadata": {},
     "outputs": [],
     "prompt_number": 2
    },
    {
     "cell_type": "code",
     "collapsed": false,
     "input": [
      "tree = AABB_tree_Polyhedron_3_Facet_handle(polyhedron.facets())\n",
      "tree.accelerate_distance_queries()"
     ],
     "language": "python",
     "metadata": {},
     "outputs": [
      {
       "metadata": {},
       "output_type": "pyout",
       "prompt_number": 3,
       "text": [
        "True"
       ]
      }
     ],
     "prompt_number": 3
    },
    {
     "cell_type": "code",
     "collapsed": false,
     "input": [
      "tree.size()"
     ],
     "language": "python",
     "metadata": {},
     "outputs": [
      {
       "metadata": {},
       "output_type": "pyout",
       "prompt_number": 4,
       "text": [
        "576"
       ]
      }
     ],
     "prompt_number": 4
    },
    {
     "cell_type": "code",
     "collapsed": false,
     "input": [
      "xmax = 0\n",
      "xmin = 0\n",
      "ymax = 0\n",
      "ymin = 0\n",
      "zmax = 0\n",
      "zmin = 0\n",
      "for j in polyhedron.vertices():\n",
      "    i = j.point()\n",
      "    if i.x() > xmax:\n",
      "        xmax = i.x()\n",
      "    if i.x() < xmin:\n",
      "        xmin = i.x()\n",
      "    if i.y() > ymax:\n",
      "        ymax = i.y()\n",
      "    if i.y() < ymin:\n",
      "        ymin = i.y()\n",
      "    if i.z() > zmax:\n",
      "        zmax = i.z()\n",
      "    if i.z() < zmin:\n",
      "        zmin = i.z()\n",
      "print xmin, xmax\n",
      "print ymin, ymax\n",
      "print zmin, zmax"
     ],
     "language": "python",
     "metadata": {},
     "outputs": [
      {
       "output_type": "stream",
       "stream": "stdout",
       "text": [
        "-10.0 10.0\n",
        "-10.0 10.0\n",
        "-120.0 120.0\n"
       ]
      }
     ],
     "prompt_number": 5
    },
    {
     "cell_type": "code",
     "collapsed": false,
     "input": [
      "a = Point_3(-9.5, -4.5, -120.5)\n",
      "b = Point_3(-8.5, -3.5, -119.5)\n",
      "segment_query=Segment_3(a,b)"
     ],
     "language": "python",
     "metadata": {},
     "outputs": [],
     "prompt_number": 6
    },
    {
     "cell_type": "code",
     "collapsed": false,
     "input": [
      "if tree.do_intersect(segment_query):\n",
      "  print \"intersection(s)\"\n",
      "else:\n",
      "  print \"no intersection\""
     ],
     "language": "python",
     "metadata": {},
     "outputs": [
      {
       "output_type": "stream",
       "stream": "stdout",
       "text": [
        "intersection(s)\n"
       ]
      }
     ],
     "prompt_number": 7
    },
    {
     "cell_type": "code",
     "collapsed": false,
     "input": [
      "print tree.number_of_intersected_primitives(segment_query),\" intersection(s)\""
     ],
     "language": "python",
     "metadata": {},
     "outputs": [
      {
       "output_type": "stream",
       "stream": "stdout",
       "text": [
        "1  intersection(s)\n"
       ]
      }
     ],
     "prompt_number": 8
    },
    {
     "cell_type": "code",
     "collapsed": false,
     "input": [
      "tree.size()"
     ],
     "language": "python",
     "metadata": {},
     "outputs": [
      {
       "metadata": {},
       "output_type": "pyout",
       "prompt_number": 9,
       "text": [
        "576"
       ]
      }
     ],
     "prompt_number": 9
    },
    {
     "cell_type": "code",
     "collapsed": false,
     "input": [
      "a = Point_3(-7.5, -7.5, -119.5)\n",
      "b = Point_3(-6.5, -6.5, -119.5)\n",
      "c = Point_3(-5.5, -5.5, -119.5)\n",
      "\n",
      "segment_query = Segment_3(a,b)"
     ],
     "language": "python",
     "metadata": {},
     "outputs": [],
     "prompt_number": 10
    },
    {
     "cell_type": "code",
     "collapsed": false,
     "input": [
      "print tree.number_of_intersected_primitives(segment_query),\" intersection(s)\"\n",
      "print tree.number_of_intersected_primitives(segment_query),\" primitive(s) intersected\""
     ],
     "language": "python",
     "metadata": {},
     "outputs": [
      {
       "output_type": "stream",
       "stream": "stdout",
       "text": [
        "2  intersection(s)\n",
        "2  primitive(s) intersected\n"
       ]
      }
     ],
     "prompt_number": 11
    },
    {
     "cell_type": "code",
     "collapsed": false,
     "input": [
      "intersections=[]\n",
      "tree.all_intersections(segment_query,intersections)\n",
      "pos = np.zeros((3,2))\n",
      "for i in range(len(intersections)):\n",
      "    testpoint = intersections[0][0]\n",
      "    print testpoint.is_Point_3()\n",
      "    g = testpoint.get_Point_3()\n",
      "    pos[0,i] = g.x()\n",
      "    pos[1,i] = g.y()\n",
      "    pos[2,i] = g.z()\n",
      "print pos"
     ],
     "language": "python",
     "metadata": {},
     "outputs": [
      {
       "output_type": "stream",
       "stream": "stdout",
       "text": [
        "True\n",
        "True\n",
        "[[  -7.07105   -7.07105]\n",
        " [  -7.07105   -7.07105]\n",
        " [-119.5     -119.5    ]]\n"
       ]
      }
     ],
     "prompt_number": 12
    },
    {
     "cell_type": "code",
     "collapsed": false,
     "input": [
      "np.all(pos[:,1] == pos[:,0])"
     ],
     "language": "python",
     "metadata": {},
     "outputs": [
      {
       "metadata": {},
       "output_type": "pyout",
       "prompt_number": 13,
       "text": [
        "True"
       ]
      }
     ],
     "prompt_number": 13
    },
    {
     "cell_type": "code",
     "collapsed": false,
     "input": [
      "primitives = []\n",
      "tree.all_intersected_primitives(segment_query,primitives)\n",
      "\n",
      "a = primitives[0].facet_begin()"
     ],
     "language": "python",
     "metadata": {},
     "outputs": [],
     "prompt_number": 14
    },
    {
     "cell_type": "code",
     "collapsed": false,
     "input": [
      "for i in range(2):\n",
      "    print \"Primitive \" + str(i)\n",
      "    a = primitives[i].facet_begin()\n",
      "    for j in range(3):\n",
      "        b = a.next()\n",
      "        print b.vertex().point().x(), b.vertex().point().y(), b.vertex().point().z()"
     ],
     "language": "python",
     "metadata": {},
     "outputs": [
      {
       "output_type": "stream",
       "stream": "stdout",
       "text": [
        "Primitive 0\n",
        "-9.0041 -2.4043 -120.0\n",
        "-7.07105 -7.07105 -120.0\n",
        "-7.07105 -7.07105 -117.424\n",
        "Primitive 1\n",
        "-7.07105 -7.07105 -120.0\n",
        "-4.66674 -8.06695 -120.0\n",
        "-7.07105 -7.07105 -117.424\n"
       ]
      }
     ],
     "prompt_number": 15
    },
    {
     "cell_type": "code",
     "collapsed": false,
     "input": [
      "a = Point_3(-7.5, -7.5, 119.5)\n",
      "b = Point_3(-6.5, -6.5, 120.5)\n",
      "c = Point_3(-5.5, -5.5, 121.5)\n",
      "segment_query = Segment_3(a,b)"
     ],
     "language": "python",
     "metadata": {},
     "outputs": [],
     "prompt_number": 16
    },
    {
     "cell_type": "code",
     "collapsed": false,
     "input": [
      "intersections=[]\n",
      "tree.all_intersections(segment_query,intersections)\n",
      "pos = np.zeros((3,len(intersections)))\n",
      "for i in range(len(intersections)):\n",
      "    testpoint = intersections[0][0]\n",
      "    print testpoint.is_Point_3()\n",
      "    g = testpoint.get_Point_3()\n",
      "    pos[0,i] = g.x()\n",
      "    pos[1,i] = g.y()\n",
      "    pos[2,i] = g.z()\n",
      "print pos"
     ],
     "language": "python",
     "metadata": {},
     "outputs": [
      {
       "output_type": "stream",
       "stream": "stdout",
       "text": [
        "True\n",
        "True\n",
        "True\n",
        "[[  -7.07105   -7.07105   -7.07105]\n",
        " [  -7.07105   -7.07105   -7.07105]\n",
        " [ 119.92895  119.92895  119.92895]]\n"
       ]
      }
     ],
     "prompt_number": 17
    },
    {
     "cell_type": "code",
     "collapsed": false,
     "input": [
      "primitives = []\n",
      "tree.all_intersected_primitives(segment_query,primitives)\n",
      "len(primitives)"
     ],
     "language": "python",
     "metadata": {},
     "outputs": [
      {
       "metadata": {},
       "output_type": "pyout",
       "prompt_number": 18,
       "text": [
        "3"
       ]
      }
     ],
     "prompt_number": 18
    },
    {
     "cell_type": "code",
     "collapsed": false,
     "input": [
      "m=Polyhedron_modifier()\n",
      "#define a triangle\n",
      "m.begin_surface(3,1)\n",
      "m.add_vertex(a)\n",
      "m.add_vertex(b)\n",
      "m.add_vertex(c)\n",
      "m.begin_facet()\n",
      "m.add_vertex_to_facet(0)\n",
      "m.add_vertex_to_facet(1)\n",
      "m.add_vertex_to_facet(2)\n",
      "m.end_facet()\n",
      "polyhedron.delegate(m)"
     ],
     "language": "python",
     "metadata": {},
     "outputs": [],
     "prompt_number": 19
    },
    {
     "cell_type": "code",
     "collapsed": false,
     "input": [
      "polyhedron.write_to_file('working_intersects.off')"
     ],
     "language": "python",
     "metadata": {},
     "outputs": [],
     "prompt_number": 21
    }
   ],
   "metadata": {}
  }
 ]
}