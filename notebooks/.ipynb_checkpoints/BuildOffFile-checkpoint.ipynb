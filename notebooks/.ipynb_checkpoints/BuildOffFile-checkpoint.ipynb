{
 "metadata": {
  "name": "BuildOffFile"
 },
 "nbformat": 3,
 "nbformat_minor": 0,
 "worksheets": [
  {
   "cells": [
    {
     "cell_type": "code",
     "collapsed": false,
     "input": [
      "from CGAL.CGAL_Polyhedron_3 import Polyhedron_modifier\n",
      "from CGAL.CGAL_Polyhedron_3 import Polyhedron_3\n",
      "from CGAL.CGAL_Polyhedron_3 import ABSOLUTE_INDEXING\n",
      "from CGAL.CGAL_Kernel import Point_3\n",
      "\n",
      "#declare a modifier interfacing the incremental_builder\n",
      "m=Polyhedron_modifier()\n",
      "\n",
      "#define a triangle\n",
      "m.begin_surface(3,1)\n",
      "m.add_vertex(Point_3(0,0,0))\n",
      "m.add_vertex(Point_3(0,1,0))\n",
      "m.add_vertex(Point_3(1,0.5,0))\n",
      "m.begin_facet()\n",
      "m.add_vertex_to_facet(0)\n",
      "m.add_vertex_to_facet(1)\n",
      "m.add_vertex_to_facet(2)\n",
      "m.end_facet()\n",
      "\n",
      "\n",
      "P=Polyhedron_3()\n",
      "#create the triangle in P\n",
      "P.delegate(m)\n",
      "print \"(v,f,e) = \", P.size_of_vertices(), P.size_of_facets(), P.size_of_halfedges()/2\n",
      "\n",
      "#clear the modifier\n",
      "m.clear()\n",
      "\n",
      "#define another triangle, reusing vertices in the polyhedron\n",
      "m.begin_surface(1,1,0,ABSOLUTE_INDEXING)\n",
      "m.add_vertex(Point_3(-10,0.5,0))\n",
      "m.begin_facet()\n",
      "m.add_vertex_to_facet(1)\n",
      "m.add_vertex_to_facet(0)\n",
      "m.add_vertex_to_facet(3)\n",
      "m.end_facet()\n",
      "\n",
      "#append a triangle incident to the existing one\n",
      "P.delegate(m)\n",
      "print \"(v,f,e) = \", P.size_of_vertices(), P.size_of_facets(), P.size_of_halfedges()/2\n",
      "\n",
      "assert P.is_valid()\n",
      "P.write_to_file('generated.off')"
     ],
     "language": "python",
     "metadata": {},
     "outputs": [
      {
       "output_type": "stream",
       "stream": "stdout",
       "text": [
        "(v,f,e) =  3 1 3\n",
        "(v,f,e) =  4 2 5\n"
       ]
      }
     ],
     "prompt_number": 1
    },
    {
     "cell_type": "code",
     "collapsed": false,
     "input": [],
     "language": "python",
     "metadata": {},
     "outputs": []
    }
   ],
   "metadata": {}
  }
 ]
}