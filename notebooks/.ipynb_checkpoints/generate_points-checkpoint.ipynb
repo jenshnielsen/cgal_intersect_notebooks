{
 "metadata": {
  "name": "generate_points"
 },
 "nbformat": 3,
 "nbformat_minor": 0,
 "worksheets": [
  {
   "cells": [
    {
     "cell_type": "markdown",
     "metadata": {},
     "source": [
      "Just a simple script to generate some points for cgal intersection script."
     ]
    },
    {
     "cell_type": "code",
     "collapsed": false,
     "input": [
      "import numpy as np"
     ],
     "language": "python",
     "metadata": {},
     "outputs": [],
     "prompt_number": 2
    },
    {
     "cell_type": "code",
     "collapsed": false,
     "input": [
      "x = np.arange(-10.5,11.5)\n",
      "y = x\n",
      "z = np.arange(-120.5,120.5)"
     ],
     "language": "python",
     "metadata": {},
     "outputs": [],
     "prompt_number": 3
    },
    {
     "cell_type": "code",
     "collapsed": false,
     "input": [
      "with open('points', 'w') as f:\n",
      "    for i in x:\n",
      "        for j in y:\n",
      "            for k in z:\n",
      "                teststring = str(i) + ' ' +  str(j) + ' ' + str(k) + '\\n'\n",
      "                f.write(teststring)"
     ],
     "language": "python",
     "metadata": {},
     "outputs": [],
     "prompt_number": 4
    },
    {
     "cell_type": "code",
     "collapsed": false,
     "input": [],
     "language": "python",
     "metadata": {},
     "outputs": [],
     "prompt_number": 4
    }
   ],
   "metadata": {}
  }
 ]
}